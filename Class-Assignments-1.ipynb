{
 "cells": [
  {
   "cell_type": "code",
   "execution_count": null,
   "metadata": {},
   "outputs": [],
   "source": [
    "#create class"
   ]
  },
  {
   "cell_type": "code",
   "execution_count": 33,
   "metadata": {},
   "outputs": [],
   "source": [
    "class subfieldsnAI():\n",
    "    def subfields():\n",
    "        print(\"Sub Fields in AI are:\")\n",
    "        ai=\"Machine Learning\",\"Neural Networks\",\"Vision,Robotics\",\"Speech Processing\",\"Natural Language Processing\"\n",
    "        for i in ai:\n",
    "            print(i)        "
   ]
  },
  {
   "cell_type": "code",
   "execution_count": 34,
   "metadata": {},
   "outputs": [
    {
     "name": "stdout",
     "output_type": "stream",
     "text": [
      "Sub Fields in AI are:\n",
      "Machine Learning\n",
      "Neural Networks\n",
      "Vision,Robotics\n",
      "Speech Processing\n",
      "Natural Language Processing\n"
     ]
    }
   ],
   "source": [
    "subfieldsnAI.subfields()"
   ]
  },
  {
   "cell_type": "code",
   "execution_count": null,
   "metadata": {},
   "outputs": [],
   "source": [
    "#oddeven"
   ]
  },
  {
   "cell_type": "code",
   "execution_count": 35,
   "metadata": {},
   "outputs": [],
   "source": [
    "class OddEven():\n",
    "    def oddeven():\n",
    "        num=int(input(\"Enter a Number:\"))\n",
    "        if(num%2==0):\n",
    "            print(num,\"is Even Number\")\n",
    "        else:\n",
    "            print(num,\"is Odd Number\")\n",
    "        "
   ]
  },
  {
   "cell_type": "code",
   "execution_count": 37,
   "metadata": {},
   "outputs": [
    {
     "name": "stdout",
     "output_type": "stream",
     "text": [
      "Enter a Number:52452\n",
      "52452 is Even Number\n"
     ]
    }
   ],
   "source": [
    "OddEven.oddeven()"
   ]
  },
  {
   "cell_type": "code",
   "execution_count": null,
   "metadata": {},
   "outputs": [],
   "source": [
    "#marriage eligible"
   ]
  },
  {
   "cell_type": "code",
   "execution_count": 48,
   "metadata": {},
   "outputs": [],
   "source": [
    "class EligibilityforMarriage():\n",
    "    def eligible():\n",
    "        gender=input(\"Your Gender (female,male):\")\n",
    "        age=int(input(\"Your age:\"))\n",
    "        if(gender==\"female\"):\n",
    "            if(age>=18):\n",
    "                print(\"ELIGIBLE\")\n",
    "            else:\n",
    "                print(\"NOT ELIGIBLE\")\n",
    "        elif(gender==\"male\"):\n",
    "            if(age>=21):\n",
    "                print(\"ELIGIBLE\")\n",
    "            else:\n",
    "                print(\"NOT ELIGIBLE\")\n",
    "            "
   ]
  },
  {
   "cell_type": "code",
   "execution_count": 49,
   "metadata": {},
   "outputs": [
    {
     "name": "stdout",
     "output_type": "stream",
     "text": [
      "Your Gender (female,male):male\n",
      "Your age:20\n",
      "NOT ELIGIBLE\n"
     ]
    }
   ],
   "source": [
    "EligibilityforMarriage.eligible()"
   ]
  },
  {
   "cell_type": "code",
   "execution_count": null,
   "metadata": {},
   "outputs": [],
   "source": [
    "#percentage"
   ]
  },
  {
   "cell_type": "code",
   "execution_count": 41,
   "metadata": {},
   "outputs": [],
   "source": [
    "class Findpercent():\n",
    "    def percentage():\n",
    "        s1=int(input(\"Subject1:\"))\n",
    "        s2=int(input(\"Subject2:\"))\n",
    "        s3=int(input(\"Subject3:\"))\n",
    "        s4=int(input(\"Subject4:\"))\n",
    "        s5=int(input(\"Subject5:\"))\n",
    "        tot=s1+s2+s3+s4+s5\n",
    "        print(\"Total:\",tot)\n",
    "        per=tot/5\n",
    "        print(\"Percentage:\",per)    "
   ]
  },
  {
   "cell_type": "code",
   "execution_count": 42,
   "metadata": {},
   "outputs": [
    {
     "name": "stdout",
     "output_type": "stream",
     "text": [
      "Subject1:98\n",
      "Subject2:87\n",
      "Subject3:95\n",
      "Subject4:95\n",
      "Subject5:93\n",
      "Total: 468\n",
      "Percentage: 93.6\n"
     ]
    }
   ],
   "source": [
    "Findpercent.percentage()"
   ]
  },
  {
   "cell_type": "code",
   "execution_count": null,
   "metadata": {},
   "outputs": [],
   "source": [
    "#triangle"
   ]
  },
  {
   "cell_type": "code",
   "execution_count": 43,
   "metadata": {},
   "outputs": [],
   "source": [
    "class Triangle():\n",
    "    def triangle():\n",
    "        h=int(input(\"Height:\"))\n",
    "        b=int(input(\"Breadth:\"))\n",
    "        area=(h*b)/2\n",
    "        print(\"Area of Triangle:\",area)\n",
    "        h1=int(input(\"Height1:\"))\n",
    "        h2=int(input(\"Height2:\"))\n",
    "        b=int(input(\"Breadth:\"))\n",
    "        perimeter=(h1+h2+b)\n",
    "        print(\"Perimeter of Triangle:\",perimeter)"
   ]
  },
  {
   "cell_type": "code",
   "execution_count": 44,
   "metadata": {},
   "outputs": [
    {
     "name": "stdout",
     "output_type": "stream",
     "text": [
      "Height:32\n",
      "Breadth:34\n",
      "Area of Triangle: 544.0\n",
      "Height1:2\n",
      "Height2:4\n",
      "Breadth:4\n",
      "Perimeter of Triangle: 10\n"
     ]
    }
   ],
   "source": [
    "Triangle.triangle()"
   ]
  },
  {
   "cell_type": "code",
   "execution_count": null,
   "metadata": {},
   "outputs": [],
   "source": []
  }
 ],
 "metadata": {
  "kernelspec": {
   "display_name": "Python 3",
   "language": "python",
   "name": "python3"
  },
  "language_info": {
   "codemirror_mode": {
    "name": "ipython",
    "version": 3
   },
   "file_extension": ".py",
   "mimetype": "text/x-python",
   "name": "python",
   "nbconvert_exporter": "python",
   "pygments_lexer": "ipython3",
   "version": "3.7.4"
  }
 },
 "nbformat": 4,
 "nbformat_minor": 2
}
