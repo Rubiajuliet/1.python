{
 "cells": [
  {
   "cell_type": "code",
   "execution_count": null,
   "metadata": {},
   "outputs": [],
   "source": [
    "#for loop"
   ]
  },
  {
   "cell_type": "code",
   "execution_count": 1,
   "metadata": {},
   "outputs": [],
   "source": [
    "list=[25,13,45,63,89]"
   ]
  },
  {
   "cell_type": "code",
   "execution_count": 3,
   "metadata": {},
   "outputs": [
    {
     "name": "stdout",
     "output_type": "stream",
     "text": [
      "YOUTH\n",
      "CHILDREN\n",
      "ADULT\n",
      "SENIOR CITIZEN\n",
      "SENIOR CITIZEN\n"
     ]
    }
   ],
   "source": [
    "for age in list:\n",
    "    if(age<18):\n",
    "        print(\"CHILDREN\")\n",
    "    elif(age<30):\n",
    "        print(\"YOUTH\")\n",
    "    elif(age<50):\n",
    "        print(\"ADULT\")\n",
    "    elif(age<60):\n",
    "        print(\"AGED\")\n",
    "    else:\n",
    "        print(\"SENIOR CITIZEN\")"
   ]
  },
  {
   "cell_type": "code",
   "execution_count": null,
   "metadata": {},
   "outputs": [],
   "source": []
  }
 ],
 "metadata": {
  "kernelspec": {
   "display_name": "Python 3",
   "language": "python",
   "name": "python3"
  },
  "language_info": {
   "codemirror_mode": {
    "name": "ipython",
    "version": 3
   },
   "file_extension": ".py",
   "mimetype": "text/x-python",
   "name": "python",
   "nbconvert_exporter": "python",
   "pygments_lexer": "ipython3",
   "version": "3.7.4"
  }
 },
 "nbformat": 4,
 "nbformat_minor": 2
}
